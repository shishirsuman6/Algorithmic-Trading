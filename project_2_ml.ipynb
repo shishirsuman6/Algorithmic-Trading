{
 "cells": [
  {
   "cell_type": "markdown",
   "id": "31f5e740-0fac-4c1f-b755-f6109a1633f3",
   "metadata": {},
   "source": [
    "# Initial imports\n",
    "import os\n",
    "import requests\n",
    "import numpy as np\n",
    "import pandas as pd\n",
    "from pathlib import Path\n",
    "import hvplot.pandas\n",
    "from dotenv import load_dotenv\n",
    "import alpaca_trade_api as tradeapi\n",
    "\n",
    "%matplotlib inline"
   ]
  },
  {
   "cell_type": "code",
   "execution_count": 1,
   "id": "9b99bdde-40e0-481d-9e27-bf2b2b24cbff",
   "metadata": {},
   "outputs": [],
   "source": [
    "import pandas as pd\n",
    "from pathlib import Path"
   ]
  },
  {
   "cell_type": "code",
   "execution_count": 2,
   "id": "d66d82fe-6ff9-44f4-8df8-635f570c6940",
   "metadata": {},
   "outputs": [
    {
     "data": {
      "text/html": [
       "<div>\n",
       "<style scoped>\n",
       "    .dataframe tbody tr th:only-of-type {\n",
       "        vertical-align: middle;\n",
       "    }\n",
       "\n",
       "    .dataframe tbody tr th {\n",
       "        vertical-align: top;\n",
       "    }\n",
       "\n",
       "    .dataframe thead th {\n",
       "        text-align: right;\n",
       "    }\n",
       "</style>\n",
       "<table border=\"1\" class=\"dataframe\">\n",
       "  <thead>\n",
       "    <tr style=\"text-align: right;\">\n",
       "      <th></th>\n",
       "      <th>AMZN</th>\n",
       "      <th>AMZN_k_period_min</th>\n",
       "      <th>AMZN_k_period_max</th>\n",
       "      <th>AMZN_k_component_fast</th>\n",
       "      <th>AMZN_d_component_slow</th>\n",
       "      <th>AMZN_sma_fast</th>\n",
       "      <th>AMZN_sma_slow</th>\n",
       "      <th>AMZN_stoch_oscl_exit</th>\n",
       "      <th>AMZN_stoch_oscl_signal</th>\n",
       "      <th>%K_80</th>\n",
       "      <th>%K_20</th>\n",
       "    </tr>\n",
       "    <tr>\n",
       "      <th>Unnamed: 0</th>\n",
       "      <th></th>\n",
       "      <th></th>\n",
       "      <th></th>\n",
       "      <th></th>\n",
       "      <th></th>\n",
       "      <th></th>\n",
       "      <th></th>\n",
       "      <th></th>\n",
       "      <th></th>\n",
       "      <th></th>\n",
       "      <th></th>\n",
       "    </tr>\n",
       "  </thead>\n",
       "  <tbody>\n",
       "    <tr>\n",
       "      <th>2017-10-26</th>\n",
       "      <td>972.54</td>\n",
       "      <td>965.47</td>\n",
       "      <td>1008.99</td>\n",
       "      <td>16.245404</td>\n",
       "      <td>42.277520</td>\n",
       "      <td>987.306</td>\n",
       "      <td>989.094167</td>\n",
       "      <td>-1</td>\n",
       "      <td>-1</td>\n",
       "      <td>94</td>\n",
       "      <td>25</td>\n",
       "    </tr>\n",
       "    <tr>\n",
       "      <th>2017-10-27</th>\n",
       "      <td>1100.99</td>\n",
       "      <td>966.34</td>\n",
       "      <td>1100.99</td>\n",
       "      <td>100.000000</td>\n",
       "      <td>44.712585</td>\n",
       "      <td>997.061</td>\n",
       "      <td>997.926667</td>\n",
       "      <td>0</td>\n",
       "      <td>-1</td>\n",
       "      <td>94</td>\n",
       "      <td>25</td>\n",
       "    </tr>\n",
       "    <tr>\n",
       "      <th>2017-10-30</th>\n",
       "      <td>1110.85</td>\n",
       "      <td>966.34</td>\n",
       "      <td>1110.85</td>\n",
       "      <td>100.000000</td>\n",
       "      <td>50.216924</td>\n",
       "      <td>1007.512</td>\n",
       "      <td>1007.075000</td>\n",
       "      <td>1</td>\n",
       "      <td>0</td>\n",
       "      <td>94</td>\n",
       "      <td>25</td>\n",
       "    </tr>\n",
       "    <tr>\n",
       "      <th>2017-10-31</th>\n",
       "      <td>1105.67</td>\n",
       "      <td>966.34</td>\n",
       "      <td>1110.85</td>\n",
       "      <td>96.415473</td>\n",
       "      <td>56.789303</td>\n",
       "      <td>1017.180</td>\n",
       "      <td>1015.594167</td>\n",
       "      <td>0</td>\n",
       "      <td>0</td>\n",
       "      <td>94</td>\n",
       "      <td>25</td>\n",
       "    </tr>\n",
       "    <tr>\n",
       "      <th>2017-11-01</th>\n",
       "      <td>1103.50</td>\n",
       "      <td>966.34</td>\n",
       "      <td>1110.85</td>\n",
       "      <td>94.913847</td>\n",
       "      <td>67.795536</td>\n",
       "      <td>1027.831</td>\n",
       "      <td>1023.690833</td>\n",
       "      <td>0</td>\n",
       "      <td>0</td>\n",
       "      <td>94</td>\n",
       "      <td>25</td>\n",
       "    </tr>\n",
       "  </tbody>\n",
       "</table>\n",
       "</div>"
      ],
      "text/plain": [
       "               AMZN  AMZN_k_period_min  AMZN_k_period_max  \\\n",
       "Unnamed: 0                                                  \n",
       "2017-10-26   972.54             965.47            1008.99   \n",
       "2017-10-27  1100.99             966.34            1100.99   \n",
       "2017-10-30  1110.85             966.34            1110.85   \n",
       "2017-10-31  1105.67             966.34            1110.85   \n",
       "2017-11-01  1103.50             966.34            1110.85   \n",
       "\n",
       "            AMZN_k_component_fast  AMZN_d_component_slow  AMZN_sma_fast  \\\n",
       "Unnamed: 0                                                                \n",
       "2017-10-26              16.245404              42.277520        987.306   \n",
       "2017-10-27             100.000000              44.712585        997.061   \n",
       "2017-10-30             100.000000              50.216924       1007.512   \n",
       "2017-10-31              96.415473              56.789303       1017.180   \n",
       "2017-11-01              94.913847              67.795536       1027.831   \n",
       "\n",
       "            AMZN_sma_slow  AMZN_stoch_oscl_exit  AMZN_stoch_oscl_signal  \\\n",
       "Unnamed: 0                                                                \n",
       "2017-10-26     989.094167                    -1                      -1   \n",
       "2017-10-27     997.926667                     0                      -1   \n",
       "2017-10-30    1007.075000                     1                       0   \n",
       "2017-10-31    1015.594167                     0                       0   \n",
       "2017-11-01    1023.690833                     0                       0   \n",
       "\n",
       "            %K_80  %K_20  \n",
       "Unnamed: 0                \n",
       "2017-10-26     94     25  \n",
       "2017-10-27     94     25  \n",
       "2017-10-30     94     25  \n",
       "2017-10-31     94     25  \n",
       "2017-11-01     94     25  "
      ]
     },
     "execution_count": 2,
     "metadata": {},
     "output_type": "execute_result"
    }
   ],
   "source": [
    "trading_df = pd.read_csv(\n",
    "    Path(\"Stochastic Oscillator and SMA based Algorithmic Trading Analyser/buysell.csv\"), \n",
    "    index_col=\"Unnamed: 0\", \n",
    "    infer_datetime_format=True, \n",
    "    parse_dates=True\n",
    ")\n",
    "# Display sample data\n",
    "trading_df.head()"
   ]
  },
  {
   "cell_type": "code",
   "execution_count": 3,
   "id": "475b6abf-32c8-4c86-b38a-edfa1558fc62",
   "metadata": {},
   "outputs": [],
   "source": [
    "trading_df[\"actual_returns\"] = trading_df[\"AMZN\"].pct_change()"
   ]
  },
  {
   "cell_type": "code",
   "execution_count": 4,
   "id": "f3ed7296-6e13-45de-867d-1e851a2da79a",
   "metadata": {},
   "outputs": [
    {
     "data": {
      "text/html": [
       "<div>\n",
       "<style scoped>\n",
       "    .dataframe tbody tr th:only-of-type {\n",
       "        vertical-align: middle;\n",
       "    }\n",
       "\n",
       "    .dataframe tbody tr th {\n",
       "        vertical-align: top;\n",
       "    }\n",
       "\n",
       "    .dataframe thead th {\n",
       "        text-align: right;\n",
       "    }\n",
       "</style>\n",
       "<table border=\"1\" class=\"dataframe\">\n",
       "  <thead>\n",
       "    <tr style=\"text-align: right;\">\n",
       "      <th></th>\n",
       "      <th>AMZN</th>\n",
       "      <th>AMZN_k_period_min</th>\n",
       "      <th>AMZN_k_period_max</th>\n",
       "      <th>AMZN_k_component_fast</th>\n",
       "      <th>AMZN_d_component_slow</th>\n",
       "      <th>AMZN_sma_fast</th>\n",
       "      <th>AMZN_sma_slow</th>\n",
       "      <th>AMZN_stoch_oscl_exit</th>\n",
       "      <th>AMZN_stoch_oscl_signal</th>\n",
       "      <th>%K_80</th>\n",
       "      <th>%K_20</th>\n",
       "      <th>actual_returns</th>\n",
       "    </tr>\n",
       "    <tr>\n",
       "      <th>Unnamed: 0</th>\n",
       "      <th></th>\n",
       "      <th></th>\n",
       "      <th></th>\n",
       "      <th></th>\n",
       "      <th></th>\n",
       "      <th></th>\n",
       "      <th></th>\n",
       "      <th></th>\n",
       "      <th></th>\n",
       "      <th></th>\n",
       "      <th></th>\n",
       "      <th></th>\n",
       "    </tr>\n",
       "  </thead>\n",
       "  <tbody>\n",
       "    <tr>\n",
       "      <th>2017-10-26</th>\n",
       "      <td>972.54</td>\n",
       "      <td>965.47</td>\n",
       "      <td>1008.99</td>\n",
       "      <td>16.245404</td>\n",
       "      <td>42.277520</td>\n",
       "      <td>987.306</td>\n",
       "      <td>989.094167</td>\n",
       "      <td>-1</td>\n",
       "      <td>-1</td>\n",
       "      <td>94</td>\n",
       "      <td>25</td>\n",
       "      <td>NaN</td>\n",
       "    </tr>\n",
       "    <tr>\n",
       "      <th>2017-10-27</th>\n",
       "      <td>1100.99</td>\n",
       "      <td>966.34</td>\n",
       "      <td>1100.99</td>\n",
       "      <td>100.000000</td>\n",
       "      <td>44.712585</td>\n",
       "      <td>997.061</td>\n",
       "      <td>997.926667</td>\n",
       "      <td>0</td>\n",
       "      <td>-1</td>\n",
       "      <td>94</td>\n",
       "      <td>25</td>\n",
       "      <td>0.132077</td>\n",
       "    </tr>\n",
       "    <tr>\n",
       "      <th>2017-10-30</th>\n",
       "      <td>1110.85</td>\n",
       "      <td>966.34</td>\n",
       "      <td>1110.85</td>\n",
       "      <td>100.000000</td>\n",
       "      <td>50.216924</td>\n",
       "      <td>1007.512</td>\n",
       "      <td>1007.075000</td>\n",
       "      <td>1</td>\n",
       "      <td>0</td>\n",
       "      <td>94</td>\n",
       "      <td>25</td>\n",
       "      <td>0.008956</td>\n",
       "    </tr>\n",
       "    <tr>\n",
       "      <th>2017-10-31</th>\n",
       "      <td>1105.67</td>\n",
       "      <td>966.34</td>\n",
       "      <td>1110.85</td>\n",
       "      <td>96.415473</td>\n",
       "      <td>56.789303</td>\n",
       "      <td>1017.180</td>\n",
       "      <td>1015.594167</td>\n",
       "      <td>0</td>\n",
       "      <td>0</td>\n",
       "      <td>94</td>\n",
       "      <td>25</td>\n",
       "      <td>-0.004663</td>\n",
       "    </tr>\n",
       "    <tr>\n",
       "      <th>2017-11-01</th>\n",
       "      <td>1103.50</td>\n",
       "      <td>966.34</td>\n",
       "      <td>1110.85</td>\n",
       "      <td>94.913847</td>\n",
       "      <td>67.795536</td>\n",
       "      <td>1027.831</td>\n",
       "      <td>1023.690833</td>\n",
       "      <td>0</td>\n",
       "      <td>0</td>\n",
       "      <td>94</td>\n",
       "      <td>25</td>\n",
       "      <td>-0.001963</td>\n",
       "    </tr>\n",
       "  </tbody>\n",
       "</table>\n",
       "</div>"
      ],
      "text/plain": [
       "               AMZN  AMZN_k_period_min  AMZN_k_period_max  \\\n",
       "Unnamed: 0                                                  \n",
       "2017-10-26   972.54             965.47            1008.99   \n",
       "2017-10-27  1100.99             966.34            1100.99   \n",
       "2017-10-30  1110.85             966.34            1110.85   \n",
       "2017-10-31  1105.67             966.34            1110.85   \n",
       "2017-11-01  1103.50             966.34            1110.85   \n",
       "\n",
       "            AMZN_k_component_fast  AMZN_d_component_slow  AMZN_sma_fast  \\\n",
       "Unnamed: 0                                                                \n",
       "2017-10-26              16.245404              42.277520        987.306   \n",
       "2017-10-27             100.000000              44.712585        997.061   \n",
       "2017-10-30             100.000000              50.216924       1007.512   \n",
       "2017-10-31              96.415473              56.789303       1017.180   \n",
       "2017-11-01              94.913847              67.795536       1027.831   \n",
       "\n",
       "            AMZN_sma_slow  AMZN_stoch_oscl_exit  AMZN_stoch_oscl_signal  \\\n",
       "Unnamed: 0                                                                \n",
       "2017-10-26     989.094167                    -1                      -1   \n",
       "2017-10-27     997.926667                     0                      -1   \n",
       "2017-10-30    1007.075000                     1                       0   \n",
       "2017-10-31    1015.594167                     0                       0   \n",
       "2017-11-01    1023.690833                     0                       0   \n",
       "\n",
       "            %K_80  %K_20  actual_returns  \n",
       "Unnamed: 0                                \n",
       "2017-10-26     94     25             NaN  \n",
       "2017-10-27     94     25        0.132077  \n",
       "2017-10-30     94     25        0.008956  \n",
       "2017-10-31     94     25       -0.004663  \n",
       "2017-11-01     94     25       -0.001963  "
      ]
     },
     "execution_count": 4,
     "metadata": {},
     "output_type": "execute_result"
    }
   ],
   "source": [
    "trading_df.head()"
   ]
  },
  {
   "cell_type": "code",
   "execution_count": 5,
   "id": "a3d0e8ba-d0b1-4c6e-bed0-dba3a8047811",
   "metadata": {},
   "outputs": [],
   "source": [
    "trading_df = trading_df.dropna()"
   ]
  },
  {
   "cell_type": "code",
   "execution_count": 6,
   "id": "69d471b1-0dd2-4375-af06-3aabcf7ec0ee",
   "metadata": {},
   "outputs": [
    {
     "data": {
      "text/html": [
       "<div>\n",
       "<style scoped>\n",
       "    .dataframe tbody tr th:only-of-type {\n",
       "        vertical-align: middle;\n",
       "    }\n",
       "\n",
       "    .dataframe tbody tr th {\n",
       "        vertical-align: top;\n",
       "    }\n",
       "\n",
       "    .dataframe thead th {\n",
       "        text-align: right;\n",
       "    }\n",
       "</style>\n",
       "<table border=\"1\" class=\"dataframe\">\n",
       "  <thead>\n",
       "    <tr style=\"text-align: right;\">\n",
       "      <th></th>\n",
       "      <th>actual_returns</th>\n",
       "      <th>AMZN_k_component_fast</th>\n",
       "      <th>AMZN_d_component_slow</th>\n",
       "      <th>AMZN_sma_fast</th>\n",
       "      <th>AMZN_sma_slow</th>\n",
       "    </tr>\n",
       "    <tr>\n",
       "      <th>Unnamed: 0</th>\n",
       "      <th></th>\n",
       "      <th></th>\n",
       "      <th></th>\n",
       "      <th></th>\n",
       "      <th></th>\n",
       "    </tr>\n",
       "  </thead>\n",
       "  <tbody>\n",
       "    <tr>\n",
       "      <th>2017-10-27</th>\n",
       "      <td>0.132077</td>\n",
       "      <td>100.000000</td>\n",
       "      <td>44.712585</td>\n",
       "      <td>997.061</td>\n",
       "      <td>997.926667</td>\n",
       "    </tr>\n",
       "    <tr>\n",
       "      <th>2017-10-30</th>\n",
       "      <td>0.008956</td>\n",
       "      <td>100.000000</td>\n",
       "      <td>50.216924</td>\n",
       "      <td>1007.512</td>\n",
       "      <td>1007.075000</td>\n",
       "    </tr>\n",
       "    <tr>\n",
       "      <th>2017-10-31</th>\n",
       "      <td>-0.004663</td>\n",
       "      <td>96.415473</td>\n",
       "      <td>56.789303</td>\n",
       "      <td>1017.180</td>\n",
       "      <td>1015.594167</td>\n",
       "    </tr>\n",
       "    <tr>\n",
       "      <th>2017-11-01</th>\n",
       "      <td>-0.001963</td>\n",
       "      <td>94.913847</td>\n",
       "      <td>67.795536</td>\n",
       "      <td>1027.831</td>\n",
       "      <td>1023.690833</td>\n",
       "    </tr>\n",
       "    <tr>\n",
       "      <th>2017-11-02</th>\n",
       "      <td>-0.008609</td>\n",
       "      <td>88.339907</td>\n",
       "      <td>75.205213</td>\n",
       "      <td>1038.571</td>\n",
       "      <td>1030.775000</td>\n",
       "    </tr>\n",
       "  </tbody>\n",
       "</table>\n",
       "</div>"
      ],
      "text/plain": [
       "            actual_returns  AMZN_k_component_fast  AMZN_d_component_slow  \\\n",
       "Unnamed: 0                                                                 \n",
       "2017-10-27        0.132077             100.000000              44.712585   \n",
       "2017-10-30        0.008956             100.000000              50.216924   \n",
       "2017-10-31       -0.004663              96.415473              56.789303   \n",
       "2017-11-01       -0.001963              94.913847              67.795536   \n",
       "2017-11-02       -0.008609              88.339907              75.205213   \n",
       "\n",
       "            AMZN_sma_fast  AMZN_sma_slow  \n",
       "Unnamed: 0                                \n",
       "2017-10-27        997.061     997.926667  \n",
       "2017-10-30       1007.512    1007.075000  \n",
       "2017-10-31       1017.180    1015.594167  \n",
       "2017-11-01       1027.831    1023.690833  \n",
       "2017-11-02       1038.571    1030.775000  "
      ]
     },
     "metadata": {},
     "output_type": "display_data"
    },
    {
     "data": {
      "text/html": [
       "<div>\n",
       "<style scoped>\n",
       "    .dataframe tbody tr th:only-of-type {\n",
       "        vertical-align: middle;\n",
       "    }\n",
       "\n",
       "    .dataframe tbody tr th {\n",
       "        vertical-align: top;\n",
       "    }\n",
       "\n",
       "    .dataframe thead th {\n",
       "        text-align: right;\n",
       "    }\n",
       "</style>\n",
       "<table border=\"1\" class=\"dataframe\">\n",
       "  <thead>\n",
       "    <tr style=\"text-align: right;\">\n",
       "      <th></th>\n",
       "      <th>actual_returns</th>\n",
       "      <th>AMZN_k_component_fast</th>\n",
       "      <th>AMZN_d_component_slow</th>\n",
       "      <th>AMZN_sma_fast</th>\n",
       "      <th>AMZN_sma_slow</th>\n",
       "    </tr>\n",
       "    <tr>\n",
       "      <th>Unnamed: 0</th>\n",
       "      <th></th>\n",
       "      <th></th>\n",
       "      <th></th>\n",
       "      <th></th>\n",
       "      <th></th>\n",
       "    </tr>\n",
       "  </thead>\n",
       "  <tbody>\n",
       "    <tr>\n",
       "      <th>2021-09-09</th>\n",
       "      <td>-0.011456</td>\n",
       "      <td>88.093273</td>\n",
       "      <td>97.470973</td>\n",
       "      <td>3450.0030</td>\n",
       "      <td>3425.505000</td>\n",
       "    </tr>\n",
       "    <tr>\n",
       "      <th>2021-09-10</th>\n",
       "      <td>-0.004278</td>\n",
       "      <td>83.697895</td>\n",
       "      <td>95.142101</td>\n",
       "      <td>3465.4950</td>\n",
       "      <td>3439.200833</td>\n",
       "    </tr>\n",
       "    <tr>\n",
       "      <th>2021-09-13</th>\n",
       "      <td>-0.004158</td>\n",
       "      <td>79.444019</td>\n",
       "      <td>92.205533</td>\n",
       "      <td>3476.1860</td>\n",
       "      <td>3452.198333</td>\n",
       "    </tr>\n",
       "    <tr>\n",
       "      <th>2021-09-14</th>\n",
       "      <td>-0.001709</td>\n",
       "      <td>76.843829</td>\n",
       "      <td>89.686096</td>\n",
       "      <td>3479.0775</td>\n",
       "      <td>3463.413750</td>\n",
       "    </tr>\n",
       "    <tr>\n",
       "      <th>2021-09-15</th>\n",
       "      <td>0.007340</td>\n",
       "      <td>80.629139</td>\n",
       "      <td>86.958308</td>\n",
       "      <td>3479.3665</td>\n",
       "      <td>3473.941250</td>\n",
       "    </tr>\n",
       "  </tbody>\n",
       "</table>\n",
       "</div>"
      ],
      "text/plain": [
       "            actual_returns  AMZN_k_component_fast  AMZN_d_component_slow  \\\n",
       "Unnamed: 0                                                                 \n",
       "2021-09-09       -0.011456              88.093273              97.470973   \n",
       "2021-09-10       -0.004278              83.697895              95.142101   \n",
       "2021-09-13       -0.004158              79.444019              92.205533   \n",
       "2021-09-14       -0.001709              76.843829              89.686096   \n",
       "2021-09-15        0.007340              80.629139              86.958308   \n",
       "\n",
       "            AMZN_sma_fast  AMZN_sma_slow  \n",
       "Unnamed: 0                                \n",
       "2021-09-09      3450.0030    3425.505000  \n",
       "2021-09-10      3465.4950    3439.200833  \n",
       "2021-09-13      3476.1860    3452.198333  \n",
       "2021-09-14      3479.0775    3463.413750  \n",
       "2021-09-15      3479.3665    3473.941250  "
      ]
     },
     "metadata": {},
     "output_type": "display_data"
    }
   ],
   "source": [
    "trading_df = trading_df[['actual_returns','AMZN_k_component_fast','AMZN_d_component_slow','AMZN_sma_fast','AMZN_sma_slow']].copy()\n",
    "display(trading_df.head())\n",
    "display(trading_df.tail())"
   ]
  },
  {
   "cell_type": "code",
   "execution_count": 7,
   "id": "338ac94a-044b-445a-a94d-9e57c28647f7",
   "metadata": {},
   "outputs": [],
   "source": [
    "trading_df[\"signal\"] = 0.0"
   ]
  },
  {
   "cell_type": "code",
   "execution_count": 8,
   "id": "f06c3a40-183d-4539-83fe-c9254a1e5711",
   "metadata": {},
   "outputs": [],
   "source": [
    "trading_df.loc[(trading_df[\"actual_returns\"] >= 0), \"signal\"] = 1\n",
    "trading_df.loc[(trading_df[\"actual_returns\"] < 0), \"signal\"] = -1"
   ]
  },
  {
   "cell_type": "code",
   "execution_count": 9,
   "id": "7b3c0e28-d64c-4889-aafb-dad1e2363ace",
   "metadata": {},
   "outputs": [],
   "source": [
    "y = trading_df[\"signal\"].copy()"
   ]
  },
  {
   "cell_type": "code",
   "execution_count": 10,
   "id": "081947c7-12eb-4df5-b678-46f2ad84aac1",
   "metadata": {},
   "outputs": [
    {
     "data": {
      "text/html": [
       "<div>\n",
       "<style scoped>\n",
       "    .dataframe tbody tr th:only-of-type {\n",
       "        vertical-align: middle;\n",
       "    }\n",
       "\n",
       "    .dataframe tbody tr th {\n",
       "        vertical-align: top;\n",
       "    }\n",
       "\n",
       "    .dataframe thead th {\n",
       "        text-align: right;\n",
       "    }\n",
       "</style>\n",
       "<table border=\"1\" class=\"dataframe\">\n",
       "  <thead>\n",
       "    <tr style=\"text-align: right;\">\n",
       "      <th></th>\n",
       "      <th>actual_returns</th>\n",
       "      <th>AMZN_k_component_fast</th>\n",
       "      <th>AMZN_d_component_slow</th>\n",
       "      <th>AMZN_sma_fast</th>\n",
       "      <th>AMZN_sma_slow</th>\n",
       "      <th>signal</th>\n",
       "    </tr>\n",
       "    <tr>\n",
       "      <th>Unnamed: 0</th>\n",
       "      <th></th>\n",
       "      <th></th>\n",
       "      <th></th>\n",
       "      <th></th>\n",
       "      <th></th>\n",
       "      <th></th>\n",
       "    </tr>\n",
       "  </thead>\n",
       "  <tbody>\n",
       "    <tr>\n",
       "      <th>2017-10-27</th>\n",
       "      <td>0.132077</td>\n",
       "      <td>100.000000</td>\n",
       "      <td>44.712585</td>\n",
       "      <td>997.061</td>\n",
       "      <td>997.926667</td>\n",
       "      <td>1.0</td>\n",
       "    </tr>\n",
       "    <tr>\n",
       "      <th>2017-10-30</th>\n",
       "      <td>0.008956</td>\n",
       "      <td>100.000000</td>\n",
       "      <td>50.216924</td>\n",
       "      <td>1007.512</td>\n",
       "      <td>1007.075000</td>\n",
       "      <td>1.0</td>\n",
       "    </tr>\n",
       "    <tr>\n",
       "      <th>2017-10-31</th>\n",
       "      <td>-0.004663</td>\n",
       "      <td>96.415473</td>\n",
       "      <td>56.789303</td>\n",
       "      <td>1017.180</td>\n",
       "      <td>1015.594167</td>\n",
       "      <td>-1.0</td>\n",
       "    </tr>\n",
       "    <tr>\n",
       "      <th>2017-11-01</th>\n",
       "      <td>-0.001963</td>\n",
       "      <td>94.913847</td>\n",
       "      <td>67.795536</td>\n",
       "      <td>1027.831</td>\n",
       "      <td>1023.690833</td>\n",
       "      <td>-1.0</td>\n",
       "    </tr>\n",
       "    <tr>\n",
       "      <th>2017-11-02</th>\n",
       "      <td>-0.008609</td>\n",
       "      <td>88.339907</td>\n",
       "      <td>75.205213</td>\n",
       "      <td>1038.571</td>\n",
       "      <td>1030.775000</td>\n",
       "      <td>-1.0</td>\n",
       "    </tr>\n",
       "  </tbody>\n",
       "</table>\n",
       "</div>"
      ],
      "text/plain": [
       "            actual_returns  AMZN_k_component_fast  AMZN_d_component_slow  \\\n",
       "Unnamed: 0                                                                 \n",
       "2017-10-27        0.132077             100.000000              44.712585   \n",
       "2017-10-30        0.008956             100.000000              50.216924   \n",
       "2017-10-31       -0.004663              96.415473              56.789303   \n",
       "2017-11-01       -0.001963              94.913847              67.795536   \n",
       "2017-11-02       -0.008609              88.339907              75.205213   \n",
       "\n",
       "            AMZN_sma_fast  AMZN_sma_slow  signal  \n",
       "Unnamed: 0                                        \n",
       "2017-10-27        997.061     997.926667     1.0  \n",
       "2017-10-30       1007.512    1007.075000     1.0  \n",
       "2017-10-31       1017.180    1015.594167    -1.0  \n",
       "2017-11-01       1027.831    1023.690833    -1.0  \n",
       "2017-11-02       1038.571    1030.775000    -1.0  "
      ]
     },
     "metadata": {},
     "output_type": "display_data"
    }
   ],
   "source": [
    "display(trading_df.head())"
   ]
  },
  {
   "cell_type": "code",
   "execution_count": 12,
   "id": "0ce6da38-4e6f-4ebb-bba5-93a7ed562f74",
   "metadata": {},
   "outputs": [],
   "source": [
    "X = trading_df[['AMZN_k_component_fast','AMZN_d_component_slow','AMZN_sma_fast','AMZN_sma_slow']].copy()"
   ]
  },
  {
   "cell_type": "code",
   "execution_count": 13,
   "id": "a703954f-eb4e-44df-9a91-bf094bd59ee4",
   "metadata": {},
   "outputs": [
    {
     "name": "stdout",
     "output_type": "stream",
     "text": [
      "2017-10-27 00:00:00\n"
     ]
    }
   ],
   "source": [
    "from pandas.tseries.offsets import DateOffset\n",
    "# Select the start of the training period\n",
    "training_begin = X.index.min()\n",
    "\n",
    "# Display the training begin date\n",
    "print(training_begin)"
   ]
  },
  {
   "cell_type": "code",
   "execution_count": 15,
   "id": "2e1d0cab-29d4-48f4-b818-c3e0f3510c64",
   "metadata": {},
   "outputs": [
    {
     "data": {
      "text/plain": [
       "Timestamp('2021-09-15 00:00:00')"
      ]
     },
     "execution_count": 15,
     "metadata": {},
     "output_type": "execute_result"
    }
   ],
   "source": [
    "X.index.max()"
   ]
  },
  {
   "cell_type": "code",
   "execution_count": 17,
   "id": "d5d35533-301a-4a4d-80ec-aa878aac6826",
   "metadata": {},
   "outputs": [
    {
     "name": "stdout",
     "output_type": "stream",
     "text": [
      "2021-05-27 00:00:00\n"
     ]
    }
   ],
   "source": [
    "# Select the ending period for the training data with an offset of 43 months\n",
    "training_end = X.index.min() + DateOffset(months=43)\n",
    "\n",
    "# Display the training end date\n",
    "print(training_end)"
   ]
  },
  {
   "cell_type": "code",
   "execution_count": 18,
   "id": "46977d30-db06-4546-9c4f-23469a7b7565",
   "metadata": {},
   "outputs": [
    {
     "data": {
      "text/html": [
       "<div>\n",
       "<style scoped>\n",
       "    .dataframe tbody tr th:only-of-type {\n",
       "        vertical-align: middle;\n",
       "    }\n",
       "\n",
       "    .dataframe tbody tr th {\n",
       "        vertical-align: top;\n",
       "    }\n",
       "\n",
       "    .dataframe thead th {\n",
       "        text-align: right;\n",
       "    }\n",
       "</style>\n",
       "<table border=\"1\" class=\"dataframe\">\n",
       "  <thead>\n",
       "    <tr style=\"text-align: right;\">\n",
       "      <th></th>\n",
       "      <th>AMZN_k_component_fast</th>\n",
       "      <th>AMZN_d_component_slow</th>\n",
       "      <th>AMZN_sma_fast</th>\n",
       "      <th>AMZN_sma_slow</th>\n",
       "    </tr>\n",
       "    <tr>\n",
       "      <th>Unnamed: 0</th>\n",
       "      <th></th>\n",
       "      <th></th>\n",
       "      <th></th>\n",
       "      <th></th>\n",
       "    </tr>\n",
       "  </thead>\n",
       "  <tbody>\n",
       "    <tr>\n",
       "      <th>2017-10-27</th>\n",
       "      <td>100.000000</td>\n",
       "      <td>44.712585</td>\n",
       "      <td>997.061</td>\n",
       "      <td>997.926667</td>\n",
       "    </tr>\n",
       "    <tr>\n",
       "      <th>2017-10-30</th>\n",
       "      <td>100.000000</td>\n",
       "      <td>50.216924</td>\n",
       "      <td>1007.512</td>\n",
       "      <td>1007.075000</td>\n",
       "    </tr>\n",
       "    <tr>\n",
       "      <th>2017-10-31</th>\n",
       "      <td>96.415473</td>\n",
       "      <td>56.789303</td>\n",
       "      <td>1017.180</td>\n",
       "      <td>1015.594167</td>\n",
       "    </tr>\n",
       "    <tr>\n",
       "      <th>2017-11-01</th>\n",
       "      <td>94.913847</td>\n",
       "      <td>67.795536</td>\n",
       "      <td>1027.831</td>\n",
       "      <td>1023.690833</td>\n",
       "    </tr>\n",
       "    <tr>\n",
       "      <th>2017-11-02</th>\n",
       "      <td>88.339907</td>\n",
       "      <td>75.205213</td>\n",
       "      <td>1038.571</td>\n",
       "      <td>1030.775000</td>\n",
       "    </tr>\n",
       "  </tbody>\n",
       "</table>\n",
       "</div>"
      ],
      "text/plain": [
       "            AMZN_k_component_fast  AMZN_d_component_slow  AMZN_sma_fast  \\\n",
       "Unnamed: 0                                                                \n",
       "2017-10-27             100.000000              44.712585        997.061   \n",
       "2017-10-30             100.000000              50.216924       1007.512   \n",
       "2017-10-31              96.415473              56.789303       1017.180   \n",
       "2017-11-01              94.913847              67.795536       1027.831   \n",
       "2017-11-02              88.339907              75.205213       1038.571   \n",
       "\n",
       "            AMZN_sma_slow  \n",
       "Unnamed: 0                 \n",
       "2017-10-27     997.926667  \n",
       "2017-10-30    1007.075000  \n",
       "2017-10-31    1015.594167  \n",
       "2017-11-01    1023.690833  \n",
       "2017-11-02    1030.775000  "
      ]
     },
     "execution_count": 18,
     "metadata": {},
     "output_type": "execute_result"
    }
   ],
   "source": [
    "# Generate the X_train and y_train DataFrames\n",
    "X_train = X.loc[training_begin:training_end]\n",
    "y_train = y.loc[training_begin:training_end]\n",
    "\n",
    "# Display sample data\n",
    "X_train.head()"
   ]
  },
  {
   "cell_type": "code",
   "execution_count": 19,
   "id": "03fc3211-28ab-4096-8a6e-59513f6f0955",
   "metadata": {},
   "outputs": [
    {
     "data": {
      "text/html": [
       "<div>\n",
       "<style scoped>\n",
       "    .dataframe tbody tr th:only-of-type {\n",
       "        vertical-align: middle;\n",
       "    }\n",
       "\n",
       "    .dataframe tbody tr th {\n",
       "        vertical-align: top;\n",
       "    }\n",
       "\n",
       "    .dataframe thead th {\n",
       "        text-align: right;\n",
       "    }\n",
       "</style>\n",
       "<table border=\"1\" class=\"dataframe\">\n",
       "  <thead>\n",
       "    <tr style=\"text-align: right;\">\n",
       "      <th></th>\n",
       "      <th>AMZN_k_component_fast</th>\n",
       "      <th>AMZN_d_component_slow</th>\n",
       "      <th>AMZN_sma_fast</th>\n",
       "      <th>AMZN_sma_slow</th>\n",
       "    </tr>\n",
       "    <tr>\n",
       "      <th>Unnamed: 0</th>\n",
       "      <th></th>\n",
       "      <th></th>\n",
       "      <th></th>\n",
       "      <th></th>\n",
       "    </tr>\n",
       "  </thead>\n",
       "  <tbody>\n",
       "    <tr>\n",
       "      <th>2021-05-27</th>\n",
       "      <td>51.668293</td>\n",
       "      <td>38.144197</td>\n",
       "      <td>3241.089</td>\n",
       "      <td>3227.125833</td>\n",
       "    </tr>\n",
       "    <tr>\n",
       "      <th>2021-05-28</th>\n",
       "      <td>46.868293</td>\n",
       "      <td>41.283592</td>\n",
       "      <td>3241.267</td>\n",
       "      <td>3233.130833</td>\n",
       "    </tr>\n",
       "    <tr>\n",
       "      <th>2021-06-01</th>\n",
       "      <td>48.168952</td>\n",
       "      <td>43.865126</td>\n",
       "      <td>3235.953</td>\n",
       "      <td>3237.851667</td>\n",
       "    </tr>\n",
       "    <tr>\n",
       "      <th>2021-06-02</th>\n",
       "      <td>69.061005</td>\n",
       "      <td>51.517458</td>\n",
       "      <td>3236.172</td>\n",
       "      <td>3238.853333</td>\n",
       "    </tr>\n",
       "    <tr>\n",
       "      <th>2021-06-03</th>\n",
       "      <td>29.638332</td>\n",
       "      <td>51.608018</td>\n",
       "      <td>3231.771</td>\n",
       "      <td>3231.865833</td>\n",
       "    </tr>\n",
       "  </tbody>\n",
       "</table>\n",
       "</div>"
      ],
      "text/plain": [
       "            AMZN_k_component_fast  AMZN_d_component_slow  AMZN_sma_fast  \\\n",
       "Unnamed: 0                                                                \n",
       "2021-05-27              51.668293              38.144197       3241.089   \n",
       "2021-05-28              46.868293              41.283592       3241.267   \n",
       "2021-06-01              48.168952              43.865126       3235.953   \n",
       "2021-06-02              69.061005              51.517458       3236.172   \n",
       "2021-06-03              29.638332              51.608018       3231.771   \n",
       "\n",
       "            AMZN_sma_slow  \n",
       "Unnamed: 0                 \n",
       "2021-05-27    3227.125833  \n",
       "2021-05-28    3233.130833  \n",
       "2021-06-01    3237.851667  \n",
       "2021-06-02    3238.853333  \n",
       "2021-06-03    3231.865833  "
      ]
     },
     "execution_count": 19,
     "metadata": {},
     "output_type": "execute_result"
    }
   ],
   "source": [
    " # Generate the X_test and y_test DataFrames\n",
    "X_test = X.loc[training_end:]\n",
    "y_test = y.loc[training_end:]\n",
    "\n",
    "# Display sample data\n",
    "X_test.head()"
   ]
  },
  {
   "cell_type": "code",
   "execution_count": 20,
   "id": "50f597e6-6e35-451f-8df8-c66d8092d3d6",
   "metadata": {},
   "outputs": [],
   "source": [
    "from sklearn.preprocessing import StandardScaler\n",
    "# Create a StandardScaler instance\n",
    "scaler = StandardScaler()\n",
    " \n",
    "# Apply the scaler model to fit the X-train data\n",
    "X_scaler = scaler.fit(X_train)\n",
    " \n",
    "# Transform the X_train and X_test DataFrames using the X_scaler\n",
    "X_train_scaled = X_scaler.transform(X_train)\n",
    "X_test_scaled = X_scaler.transform(X_test)"
   ]
  },
  {
   "cell_type": "code",
   "execution_count": 21,
   "id": "b6fc8e7b-8544-4c57-adce-b485f42cb3e8",
   "metadata": {},
   "outputs": [],
   "source": [
    "from sklearn import svm\n",
    "from sklearn.metrics import classification_report"
   ]
  },
  {
   "cell_type": "code",
   "execution_count": 22,
   "id": "e216e45a-bcf0-4229-8554-fd5adaec03ba",
   "metadata": {},
   "outputs": [
    {
     "data": {
      "text/plain": [
       "array([1., 1., 1., 1., 1., 1., 1., 1., 1., 1.])"
      ]
     },
     "execution_count": 22,
     "metadata": {},
     "output_type": "execute_result"
    }
   ],
   "source": [
    "# Create the classifier model\n",
    "svm_model = svm.SVC()\n",
    " \n",
    "# Fit the model to the data using X_train_scaled and y_train\n",
    "svm_model = svm_model.fit(X_train_scaled, y_train)\n",
    "\n",
    "# Use the trained model to predict the trading signals for the training data\n",
    "training_signal_predictions = svm_model.predict(X_train_scaled)\n",
    "\n",
    "# Display the sample predictions\n",
    "training_signal_predictions[:10]"
   ]
  },
  {
   "cell_type": "code",
   "execution_count": 23,
   "id": "ac8ff01b-a0f1-4624-8652-f08e02f7a1b0",
   "metadata": {},
   "outputs": [
    {
     "name": "stdout",
     "output_type": "stream",
     "text": [
      "              precision    recall  f1-score   support\n",
      "\n",
      "        -1.0       0.72      0.64      0.68       394\n",
      "         1.0       0.74      0.81      0.78       507\n",
      "\n",
      "    accuracy                           0.74       901\n",
      "   macro avg       0.73      0.73      0.73       901\n",
      "weighted avg       0.73      0.74      0.73       901\n",
      "\n"
     ]
    }
   ],
   "source": [
    "# Evaluate the model using a classification report\n",
    "training_report = classification_report(y_train, training_signal_predictions)\n",
    "print(training_report)"
   ]
  },
  {
   "cell_type": "code",
   "execution_count": 24,
   "id": "97597fee-a678-42e1-b0a1-b357493e5b85",
   "metadata": {},
   "outputs": [],
   "source": [
    "testing_signal_predictions = svm_model.predict(X_test_scaled)"
   ]
  },
  {
   "cell_type": "code",
   "execution_count": 25,
   "id": "a61ff7e2-cf89-48a0-a8a9-ad17811bc85b",
   "metadata": {},
   "outputs": [
    {
     "name": "stdout",
     "output_type": "stream",
     "text": [
      "              precision    recall  f1-score   support\n",
      "\n",
      "        -1.0       0.64      0.62      0.63        37\n",
      "         1.0       0.66      0.68      0.67        40\n",
      "\n",
      "    accuracy                           0.65        77\n",
      "   macro avg       0.65      0.65      0.65        77\n",
      "weighted avg       0.65      0.65      0.65        77\n",
      "\n"
     ]
    }
   ],
   "source": [
    "svm_testing_report = classification_report(y_test, testing_signal_predictions)\n",
    "print(svm_testing_report)"
   ]
  },
  {
   "cell_type": "code",
   "execution_count": 26,
   "id": "d9884396-0123-4702-afca-c301a8481fd6",
   "metadata": {},
   "outputs": [
    {
     "data": {
      "text/html": [
       "<div>\n",
       "<style scoped>\n",
       "    .dataframe tbody tr th:only-of-type {\n",
       "        vertical-align: middle;\n",
       "    }\n",
       "\n",
       "    .dataframe tbody tr th {\n",
       "        vertical-align: top;\n",
       "    }\n",
       "\n",
       "    .dataframe thead th {\n",
       "        text-align: right;\n",
       "    }\n",
       "</style>\n",
       "<table border=\"1\" class=\"dataframe\">\n",
       "  <thead>\n",
       "    <tr style=\"text-align: right;\">\n",
       "      <th></th>\n",
       "      <th>predicted_signal</th>\n",
       "      <th>actual_returns</th>\n",
       "      <th>trading_algorithm_returns</th>\n",
       "    </tr>\n",
       "    <tr>\n",
       "      <th>Unnamed: 0</th>\n",
       "      <th></th>\n",
       "      <th></th>\n",
       "      <th></th>\n",
       "    </tr>\n",
       "  </thead>\n",
       "  <tbody>\n",
       "    <tr>\n",
       "      <th>2021-05-27</th>\n",
       "      <td>1.0</td>\n",
       "      <td>-0.010146</td>\n",
       "      <td>-0.010146</td>\n",
       "    </tr>\n",
       "    <tr>\n",
       "      <th>2021-05-28</th>\n",
       "      <td>1.0</td>\n",
       "      <td>-0.002283</td>\n",
       "      <td>-0.002283</td>\n",
       "    </tr>\n",
       "    <tr>\n",
       "      <th>2021-06-01</th>\n",
       "      <td>1.0</td>\n",
       "      <td>-0.001870</td>\n",
       "      <td>-0.001870</td>\n",
       "    </tr>\n",
       "    <tr>\n",
       "      <th>2021-06-02</th>\n",
       "      <td>1.0</td>\n",
       "      <td>0.005055</td>\n",
       "      <td>0.005055</td>\n",
       "    </tr>\n",
       "    <tr>\n",
       "      <th>2021-06-03</th>\n",
       "      <td>-1.0</td>\n",
       "      <td>-0.014523</td>\n",
       "      <td>0.014523</td>\n",
       "    </tr>\n",
       "  </tbody>\n",
       "</table>\n",
       "</div>"
      ],
      "text/plain": [
       "            predicted_signal  actual_returns  trading_algorithm_returns\n",
       "Unnamed: 0                                                             \n",
       "2021-05-27               1.0       -0.010146                  -0.010146\n",
       "2021-05-28               1.0       -0.002283                  -0.002283\n",
       "2021-06-01               1.0       -0.001870                  -0.001870\n",
       "2021-06-02               1.0        0.005055                   0.005055\n",
       "2021-06-03              -1.0       -0.014523                   0.014523"
      ]
     },
     "execution_count": 26,
     "metadata": {},
     "output_type": "execute_result"
    }
   ],
   "source": [
    "predictions_df = pd.DataFrame(index=X_test.index)\n",
    "predictions_df[\"predicted_signal\"] = testing_signal_predictions\n",
    "predictions_df[\"actual_returns\"] = trading_df[\"actual_returns\"]\n",
    "predictions_df[\"trading_algorithm_returns\"] = predictions_df[\"actual_returns\"] * predictions_df[\"predicted_signal\"]\n",
    "predictions_df.head()"
   ]
  },
  {
   "cell_type": "code",
   "execution_count": 27,
   "id": "70b2f3eb-8661-43b8-b4a2-9ee26c211d41",
   "metadata": {},
   "outputs": [
    {
     "data": {
      "text/plain": [
       "<AxesSubplot:xlabel='Unnamed: 0'>"
      ]
     },
     "execution_count": 27,
     "metadata": {},
     "output_type": "execute_result"
    },
    {
     "data": {
      "image/png": "[encoded data removed]",
      "text/plain": [
       "<Figure size 432x288 with 1 Axes>"
      ]
     },
     "metadata": {
      "needs_background": "light"
     },
     "output_type": "display_data"
    }
   ],
   "source": [
    "(1 + predictions_df[[\"actual_returns\", \"trading_algorithm_returns\"]]).cumprod().plot()"
   ]
  },
  {
   "cell_type": "code",
   "execution_count": 29,
   "id": "7ee666d5-e896-44bc-8c39-0331e41ad8ad",
   "metadata": {},
   "outputs": [],
   "source": [
    "# RF Model\n",
    "from sklearn.ensemble import RandomForestClassifier\n",
    "from sklearn.metrics import confusion_matrix, accuracy_score, classification_report\n",
    "rf_model = RandomForestClassifier(n_estimators=500, random_state=1)"
   ]
  },
  {
   "cell_type": "code",
   "execution_count": 30,
   "id": "032b5af0-ed1c-4808-8566-a927ed11d41d",
   "metadata": {},
   "outputs": [],
   "source": [
    "rf_model = rf_model.fit(X_train_scaled, y_train)"
   ]
  },
  {
   "cell_type": "code",
   "execution_count": 31,
   "id": "77a9fc48-e1a5-4a46-a5a3-1bd304f82092",
   "metadata": {},
   "outputs": [],
   "source": [
    "rf_predictions = rf_model.predict(X_test_scaled)"
   ]
  },
  {
   "cell_type": "code",
   "execution_count": 32,
   "id": "aadf146e-f1b5-4f83-b169-36a22a17c649",
   "metadata": {},
   "outputs": [
    {
     "name": "stdout",
     "output_type": "stream",
     "text": [
      "              precision    recall  f1-score   support\n",
      "\n",
      "        -1.0       0.76      0.78      0.77        37\n",
      "         1.0       0.79      0.78      0.78        40\n",
      "\n",
      "    accuracy                           0.78        77\n",
      "   macro avg       0.78      0.78      0.78        77\n",
      "weighted avg       0.78      0.78      0.78        77\n",
      "\n"
     ]
    }
   ],
   "source": [
    "rf_testing_report = classification_report(y_test, rf_predictions)\n",
    "print(rf_testing_report)"
   ]
  },
  {
   "cell_type": "code",
   "execution_count": 33,
   "id": "f7cc6a28-2059-4f9a-a325-e34465ac00c5",
   "metadata": {},
   "outputs": [
    {
     "data": {
      "text/plain": [
       "<AxesSubplot:xlabel='Unnamed: 0'>"
      ]
     },
     "execution_count": 33,
     "metadata": {},
     "output_type": "execute_result"
    },
    {
     "data": {
      "image/png": "[encoded data removed]",
      "text/plain": [
       "<Figure size 432x288 with 1 Axes>"
      ]
     },
     "metadata": {
      "needs_background": "light"
     },
     "output_type": "display_data"
    }
   ],
   "source": [
    "predictions_df = pd.DataFrame(index=X_test.index)\n",
    "predictions_df[\"predicted_signal\"] = rf_predictions\n",
    "predictions_df[\"actual_returns\"] = trading_df[\"actual_returns\"]\n",
    "predictions_df[\"trading_algorithm_returns\"] = predictions_df[\"actual_returns\"] * predictions_df[\"predicted_signal\"]\n",
    "(1 + predictions_df[[\"actual_returns\", \"trading_algorithm_returns\"]]).cumprod().plot()"
   ]
  },
  {
   "cell_type": "code",
   "execution_count": 34,
   "id": "9ae8e591-2a68-411a-986d-3d4827223b22",
   "metadata": {},
   "outputs": [
    {
     "name": "stdout",
     "output_type": "stream",
     "text": [
      "Learning rate:  0.05\n",
      "Accuracy score (training): 0.819\n",
      "Accuracy score (validation): 0.714\n",
      "\n",
      "Learning rate:  0.1\n",
      "Accuracy score (training): 0.867\n",
      "Accuracy score (validation): 0.662\n",
      "\n",
      "Learning rate:  0.25\n",
      "Accuracy score (training): 0.958\n",
      "Accuracy score (validation): 0.766\n",
      "\n",
      "Learning rate:  0.5\n",
      "Accuracy score (training): 0.998\n",
      "Accuracy score (validation): 0.714\n",
      "\n",
      "Learning rate:  0.75\n",
      "Accuracy score (training): 1.000\n",
      "Accuracy score (validation): 0.779\n",
      "\n",
      "Learning rate:  1\n",
      "Accuracy score (training): 1.000\n",
      "Accuracy score (validation): 0.740\n",
      "\n"
     ]
    }
   ],
   "source": [
    "# Gradiant Boosting\n",
    "from sklearn.ensemble import GradientBoostingClassifier\n",
    "learning_rates = [0.05, 0.1, 0.25, 0.5, 0.75, 1]\n",
    "for learning_rate in learning_rates:\n",
    "    model = GradientBoostingClassifier(\n",
    "        n_estimators=100,\n",
    "        learning_rate=learning_rate,\n",
    "        max_features=2,\n",
    "        max_depth=3,\n",
    "        random_state=0)\n",
    "    model.fit(X_train_scaled,y_train.ravel())\n",
    "    print(\"Learning rate: \", learning_rate)\n",
    "\n",
    "    # Score the model\n",
    "    print(\"Accuracy score (training): {0:.3f}\".format(\n",
    "        model.score(\n",
    "            X_train_scaled,\n",
    "            y_train.ravel())))\n",
    "    print(\"Accuracy score (validation): {0:.3f}\".format(\n",
    "        model.score(\n",
    "            X_test_scaled,\n",
    "            y_test.ravel())))\n",
    "    print()"
   ]
  },
  {
   "cell_type": "code",
   "execution_count": 35,
   "id": "86e44d5f-02d1-4a8b-854b-c26d48f96cb9",
   "metadata": {},
   "outputs": [
    {
     "name": "stdout",
     "output_type": "stream",
     "text": [
      "Accuracy score (training): 1.000\n",
      "Accuracy score (validation): 0.727\n"
     ]
    }
   ],
   "source": [
    "model = GradientBoostingClassifier(\n",
    "    n_estimators=500,\n",
    "    learning_rate=0.75,\n",
    "    max_features=4,\n",
    "    max_depth=3,\n",
    "    random_state=0)\n",
    "\n",
    "# Fit the model\n",
    "model.fit(X_train_scaled,y_train.ravel())\n",
    "\n",
    "# Score the model\n",
    "print(\"Accuracy score (training): {0:.3f}\".format(\n",
    "    model.score(\n",
    "        X_train_scaled,\n",
    "        y_train)))\n",
    "print(\"Accuracy score (validation): {0:.3f}\".format(\n",
    "    model.score(\n",
    "        X_test_scaled,\n",
    "        y_test)))"
   ]
  },
  {
   "cell_type": "code",
   "execution_count": 36,
   "id": "243f3166-c94c-4ff5-93e5-3548deb6cb9b",
   "metadata": {},
   "outputs": [
    {
     "data": {
      "text/plain": [
       "0.7272727272727273"
      ]
     },
     "execution_count": 36,
     "metadata": {},
     "output_type": "execute_result"
    }
   ],
   "source": [
    "gb_predictions = model.predict(X_test_scaled)\n",
    "\n",
    "# Generate accuracy score for predictions using y_test\n",
    "accuracy_score(y_test, gb_predictions)"
   ]
  },
  {
   "cell_type": "code",
   "execution_count": 37,
   "id": "f823cabd-dfb4-4c4b-8dd3-6420f0b6876e",
   "metadata": {},
   "outputs": [
    {
     "name": "stdout",
     "output_type": "stream",
     "text": [
      "              precision    recall  f1-score   support\n",
      "\n",
      "        -1.0       0.72      0.70      0.71        37\n",
      "         1.0       0.73      0.75      0.74        40\n",
      "\n",
      "    accuracy                           0.73        77\n",
      "   macro avg       0.73      0.73      0.73        77\n",
      "weighted avg       0.73      0.73      0.73        77\n",
      "\n"
     ]
    }
   ],
   "source": [
    "print(classification_report(y_test, gb_predictions))"
   ]
  },
  {
   "cell_type": "code",
   "execution_count": 38,
   "id": "f33d9f80-4b5b-46d9-9f34-d3b314d881af",
   "metadata": {},
   "outputs": [
    {
     "data": {
      "text/plain": [
       "<AxesSubplot:xlabel='Unnamed: 0'>"
      ]
     },
     "execution_count": 38,
     "metadata": {},
     "output_type": "execute_result"
    },
    {
     "data": {
      "image/png": "[encoded data removed]",
      "text/plain": [
       "<Figure size 432x288 with 1 Axes>"
      ]
     },
     "metadata": {
      "needs_background": "light"
     },
     "output_type": "display_data"
    }
   ],
   "source": [
    "predictions_df = pd.DataFrame(index=X_test.index)\n",
    "predictions_df[\"predicted_signal\"] = gb_predictions\n",
    "predictions_df[\"actual_returns\"] = trading_df[\"actual_returns\"]\n",
    "predictions_df[\"trading_algorithm_returns\"] = predictions_df[\"actual_returns\"] * predictions_df[\"predicted_signal\"]\n",
    "(1 + predictions_df[[\"actual_returns\", \"trading_algorithm_returns\"]]).cumprod().plot()"
   ]
  },
  {
   "cell_type": "code",
   "execution_count": null,
   "id": "8e228661-ff7b-48bd-a005-793a73aacbe4",
   "metadata": {},
   "outputs": [],
   "source": []
  }
 ],
 "metadata": {
  "kernelspec": {
   "display_name": "Python 3",
   "language": "python",
   "name": "python3"
  },
  "language_info": {
   "codemirror_mode": {
    "name": "ipython",
    "version": 3
   },
   "file_extension": ".py",
   "mimetype": "text/x-python",
   "name": "python",
   "nbconvert_exporter": "python",
   "pygments_lexer": "ipython3",
   "version": "3.7.10"
  }
 },
 "nbformat": 4,
 "nbformat_minor": 5
}
